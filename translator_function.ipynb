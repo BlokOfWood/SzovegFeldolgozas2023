{
  "nbformat": 4,
  "nbformat_minor": 0,
  "metadata": {
    "colab": {
      "provenance": []
    },
    "kernelspec": {
      "name": "python3",
      "display_name": "Python 3"
    },
    "language_info": {
      "name": "python"
    }
  },
  "cells": [
    {
      "cell_type": "code",
      "execution_count": 1,
      "metadata": {
        "colab": {
          "base_uri": "https://localhost:8080/"
        },
        "id": "NFTCmsYirxA9",
        "outputId": "3c87e601-d3ba-473f-c6b9-2a3019c06aba"
      },
      "outputs": [
        {
          "output_type": "stream",
          "name": "stdout",
          "text": [
            "Requirement already satisfied: transformers in /usr/local/lib/python3.10/dist-packages (4.35.2)\n",
            "Requirement already satisfied: filelock in /usr/local/lib/python3.10/dist-packages (from transformers) (3.13.1)\n",
            "Requirement already satisfied: huggingface-hub<1.0,>=0.16.4 in /usr/local/lib/python3.10/dist-packages (from transformers) (0.19.3)\n",
            "Requirement already satisfied: numpy>=1.17 in /usr/local/lib/python3.10/dist-packages (from transformers) (1.23.5)\n",
            "Requirement already satisfied: packaging>=20.0 in /usr/local/lib/python3.10/dist-packages (from transformers) (23.2)\n",
            "Requirement already satisfied: pyyaml>=5.1 in /usr/local/lib/python3.10/dist-packages (from transformers) (6.0.1)\n",
            "Requirement already satisfied: regex!=2019.12.17 in /usr/local/lib/python3.10/dist-packages (from transformers) (2023.6.3)\n",
            "Requirement already satisfied: requests in /usr/local/lib/python3.10/dist-packages (from transformers) (2.31.0)\n",
            "Requirement already satisfied: tokenizers<0.19,>=0.14 in /usr/local/lib/python3.10/dist-packages (from transformers) (0.15.0)\n",
            "Requirement already satisfied: safetensors>=0.3.1 in /usr/local/lib/python3.10/dist-packages (from transformers) (0.4.0)\n",
            "Requirement already satisfied: tqdm>=4.27 in /usr/local/lib/python3.10/dist-packages (from transformers) (4.66.1)\n",
            "Requirement already satisfied: fsspec>=2023.5.0 in /usr/local/lib/python3.10/dist-packages (from huggingface-hub<1.0,>=0.16.4->transformers) (2023.6.0)\n",
            "Requirement already satisfied: typing-extensions>=3.7.4.3 in /usr/local/lib/python3.10/dist-packages (from huggingface-hub<1.0,>=0.16.4->transformers) (4.5.0)\n",
            "Requirement already satisfied: charset-normalizer<4,>=2 in /usr/local/lib/python3.10/dist-packages (from requests->transformers) (3.3.2)\n",
            "Requirement already satisfied: idna<4,>=2.5 in /usr/local/lib/python3.10/dist-packages (from requests->transformers) (3.4)\n",
            "Requirement already satisfied: urllib3<3,>=1.21.1 in /usr/local/lib/python3.10/dist-packages (from requests->transformers) (2.0.7)\n",
            "Requirement already satisfied: certifi>=2017.4.17 in /usr/local/lib/python3.10/dist-packages (from requests->transformers) (2023.7.22)\n"
          ]
        }
      ],
      "source": [
        "!pip install transformers"
      ]
    },
    {
      "cell_type": "code",
      "source": [
        "!pip install sentencepiece"
      ],
      "metadata": {
        "colab": {
          "base_uri": "https://localhost:8080/"
        },
        "id": "u9mzO-h9sBIr",
        "outputId": "62d1bfd5-a93d-430c-e55c-1190ea273035"
      },
      "execution_count": 2,
      "outputs": [
        {
          "output_type": "stream",
          "name": "stdout",
          "text": [
            "Collecting sentencepiece\n",
            "  Downloading sentencepiece-0.1.99-cp310-cp310-manylinux_2_17_x86_64.manylinux2014_x86_64.whl (1.3 MB)\n",
            "\u001b[2K     \u001b[90m━━━━━━━━━━━━━━━━━━━━━━━━━━━━━━━━━━━━━━━━\u001b[0m \u001b[32m1.3/1.3 MB\u001b[0m \u001b[31m14.3 MB/s\u001b[0m eta \u001b[36m0:00:00\u001b[0m\n",
            "\u001b[?25hInstalling collected packages: sentencepiece\n",
            "Successfully installed sentencepiece-0.1.99\n"
          ]
        }
      ]
    },
    {
      "cell_type": "code",
      "source": [
        "from transformers import MBartForConditionalGeneration, MBart50TokenizerFast"
      ],
      "metadata": {
        "id": "tIoD3mVQsGv8"
      },
      "execution_count": 37,
      "outputs": []
    },
    {
      "cell_type": "code",
      "source": [
        "article_en=\"This is a test text for the translator\"\n",
        "fromLang = \"en_XX\"\n",
        "toLang = \"de_DE\"\n",
        "def translatorFunc(sentence, fromLang, toLang):\n",
        "  model = MBartForConditionalGeneration.from_pretrained(\"facebook/mbart-large-50-one-to-many-mmt\")\n",
        "  tokenizer = MBart50TokenizerFast.from_pretrained(\"facebook/mbart-large-50-one-to-many-mmt\", src_lang=fromLang)\n",
        "  model_inputs = tokenizer(sentence, return_tensors=\"pt\")\n",
        "  #the translation itself\n",
        "  generated_tokens = model.generate(\n",
        "      **model_inputs,\n",
        "      forced_bos_token_id = tokenizer.lang_code_to_id[toLang]\n",
        "  )\n",
        "  translation = tokenizer.batch_decode(generated_tokens, skip_special_tokens=True)\n",
        "  translated_text = str(translation).strip(\"[]''\")\n",
        "  print(\"Translation: \" + translated_text)"
      ],
      "metadata": {
        "id": "OVQ4EvlLsTsV"
      },
      "execution_count": 38,
      "outputs": []
    },
    {
      "cell_type": "code",
      "source": [
        "translatorFunc(article_en, fromLang, toLang)\n"
      ],
      "metadata": {
        "colab": {
          "base_uri": "https://localhost:8080/"
        },
        "id": "FT4lqhRptpcw",
        "outputId": "d8680eba-964f-46fe-e6c4-0b337b9d5254"
      },
      "execution_count": 35,
      "outputs": [
        {
          "output_type": "stream",
          "name": "stdout",
          "text": [
            "Translation: Dies ist ein Testtext für den Übersetzer\n"
          ]
        }
      ]
    },
    {
      "cell_type": "code",
      "source": [
        "#for javascript to be able to choose language\n",
        "const languages = {\n",
        "  Arabic: 'ar_AR',\n",
        "  Czech: 'cs_CZ',\n",
        "  German: 'de_DE',\n",
        "  English: 'en_XX',\n",
        "  Spanish: 'es_XX',\n",
        "  Estonian: 'et_EE',\n",
        "  Finnish: 'fi_FI',\n",
        "  French: 'fr_XX',\n",
        "  Gujarati: 'gu_IN',\n",
        "  Hindi: 'hi_IN',\n",
        "  Italian: 'it_IT',\n",
        "  Japanese: 'ja_XX',\n",
        "  Kazakh: 'kk_KZ',\n",
        "  Korean: 'ko_KR',\n",
        "  Lithuanian: 'lt_LT',\n",
        "  Latvian: 'lv_LV',\n",
        "  Burmese: 'my_MM',\n",
        "  Nepali: 'ne_NP',\n",
        "  Dutch: 'nl_XX',\n",
        "  Romanian: 'ro_RO',\n",
        "  Russian: 'ru_RU',\n",
        "  Sinhala: 'si_LK',\n",
        "  Turkish: 'tr_TR',\n",
        "  Vietnamese: 'vi_VN',\n",
        "  Chinese: 'zh_CN',\n",
        "  Afrikaans: 'af_ZA',\n",
        "  Azerbaijani: 'az_AZ',\n",
        "  Bengali: 'bn_IN',\n",
        "  Persian: 'fa_IR',\n",
        "  Hebrew: 'he_IL',\n",
        "  Croatian: 'hr_HR',\n",
        "  Indonesian: 'id_ID',\n",
        "  Georgian: 'ka_GE',\n",
        "  Khmer: 'km_KH',\n",
        "  Macedonian: 'mk_MK',\n",
        "  Malayalam: 'ml_IN',\n",
        "  Mongolian: 'mn_MN',\n",
        "  Marathi: 'mr_IN',\n",
        "  Polish: 'pl_PL',\n",
        "  Pashto: 'ps_AF',\n",
        "  Portuguese: 'pt_XX',\n",
        "  Swedish: 'sv_SE',\n",
        "  Swahili: 'sw_KE',\n",
        "  Tamil: 'ta_IN',\n",
        "  Telugu: 'te_IN',\n",
        "  Thai: 'th_TH',\n",
        "  Tagalog: 'tl_XX',\n",
        "  Ukrainian: 'uk_UA',\n",
        "  Urdu: 'ur_PK',\n",
        "  Xhosa: 'xh_ZA',\n",
        "  Galician: 'gl_ES',\n",
        "  Slovene: 'sl_SI'\n",
        "};"
      ],
      "metadata": {
        "id": "3HuelzYB85Jm"
      },
      "execution_count": null,
      "outputs": []
    }
  ]
}